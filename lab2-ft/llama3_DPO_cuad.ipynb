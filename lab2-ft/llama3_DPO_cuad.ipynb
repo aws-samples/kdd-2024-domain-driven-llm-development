{
 "cells": [
  {
   "cell_type": "markdown",
   "id": "7ca6cfc0",
   "metadata": {},
   "source": [
    "## Hands-on Tutorial\n",
    "## Domain-Driven LLM Development: Insights into RAG and Fine-Tuning Practices\n",
    "### Lab 2.3 (optional) : LLM Fine-Tuning through DPO    \n",
    "#### Summary: \n",
    "This lab focused on fine-tuning with preference alignment - Direct Preference Optimization (DPO) on Meta-Llama-3-8B-Instruct SFT model   \n",
    "\n",
    "- The training dataset is from CUAD - BONTONSTORESINC_04_20_2018-EX-99.3-AGENCY AGREEMENT.PDF and evaluation metric on Meta-Llama-3-8B-Instruct SFT model \n"
   ]
  },
  {
   "cell_type": "markdown",
   "id": "64abbdf5",
   "metadata": {},
   "source": [
    "### Initalization"
   ]
  },
  {
   "cell_type": "markdown",
   "id": "e285e3c1",
   "metadata": {},
   "source": [
    "Uncomment the following lines if the packages are not installed "
   ]
  },
  {
   "cell_type": "code",
   "execution_count": null,
   "id": "a9529163",
   "metadata": {},
   "outputs": [],
   "source": [
    "#!pip uninstall -y transformers\n",
    "#!pip install transformers==4.45.2\n",
    "\n",
    "#!pip install \"trl<0.9.0\"\n",
    "#!pip install sentence_transformers\n",
    "#!pip install datasets\n",
    "\n",
    "#!pip install accelerate\n",
    "#!pip install bitsandbytes\n",
    "#!pip install peft\n",
    "#!pip install sentence_transformers\n",
    "\n",
    "#!pip install continuous_eval\n",
    "#!pip install tiktoken"
   ]
  },
  {
   "cell_type": "code",
   "execution_count": 1,
   "id": "565d02ab",
   "metadata": {},
   "outputs": [],
   "source": [
    "import random\n",
    "import pandas as pd\n",
    "from datasets import load_dataset\n",
    "\n",
    "from operator import itemgetter\n",
    "import warnings\n",
    "warnings.filterwarnings('ignore')\n",
    "\n",
    "from datasets import Dataset, load_dataset"
   ]
  },
  {
   "cell_type": "code",
   "execution_count": 2,
   "id": "1dbc00f0-905d-4a70-81a8-eccd304bc9fb",
   "metadata": {
    "tags": []
   },
   "outputs": [],
   "source": [
    "import torch\n",
    "from torch.utils.data import Dataset, random_split\n",
    "\n",
    "from transformers import AutoModelForCausalLM, AutoTokenizer, BitsAndBytesConfig\n",
    "from transformers import AutoModelForSequenceClassification,AutoTokenizer,TrainingArguments\n",
    "from transformers import TextDataset, DataCollatorForLanguageModeling\n",
    "import bitsandbytes as bnb\n",
    "\n",
    "from peft import LoraConfig, get_peft_model, prepare_model_for_kbit_training, PeftModel, AutoPeftModelForCausalLM"
   ]
  },
  {
   "cell_type": "code",
   "execution_count": 3,
   "id": "1c3b17ae-c267-4d60-95cc-d0fcd5f1c189",
   "metadata": {
    "tags": []
   },
   "outputs": [],
   "source": [
    "from trl import DPOTrainer  \n",
    "from trl import create_reference_model\n",
    "from trl.core import LengthSampler"
   ]
  },
  {
   "cell_type": "code",
   "execution_count": null,
   "id": "16997983",
   "metadata": {},
   "outputs": [],
   "source": [
    "import nltk\n",
    "nltk.download('punkt_tab') "
   ]
  },
  {
   "cell_type": "code",
   "execution_count": 22,
   "id": "146392a4",
   "metadata": {},
   "outputs": [
    {
     "name": "stdout",
     "output_type": "stream",
     "text": [
      "Fri Nov  8 21:40:36 2024       \n",
      "+-----------------------------------------------------------------------------------------+\n",
      "| NVIDIA-SMI 550.127.05             Driver Version: 550.127.05     CUDA Version: 12.4     |\n",
      "|-----------------------------------------+------------------------+----------------------+\n",
      "| GPU  Name                 Persistence-M | Bus-Id          Disp.A | Volatile Uncorr. ECC |\n",
      "| Fan  Temp   Perf          Pwr:Usage/Cap |           Memory-Usage | GPU-Util  Compute M. |\n",
      "|                                         |                        |               MIG M. |\n",
      "|=========================================+========================+======================|\n",
      "Fri Nov  8 21:40:36 2024       \n",
      "+-----------------------------------------------------------------------------------------+\n",
      "| NVIDIA-SMI 550.127.05             Driver Version: 550.127.05     CUDA Version: 12.4     |\n",
      "|-----------------------------------------+------------------------+----------------------+\n",
      "| GPU  Name                 Persistence-M | Bus-Id          Disp.A | Volatile Uncorr. ECC |\n",
      "| Fan  Temp   Perf          Pwr:Usage/Cap |           Memory-Usage | GPU-Util  Compute M. |\n",
      "|                                         |                        |               MIG M. |\n",
      "|=========================================+========================+======================|\n",
      "|   0  Tesla T4                       On  |   00000000:00:1E.0 Off |                    0 |\n",
      "| N/A   35C    P0             32W /   70W |    5647MiB /  15360MiB |      0%      Default |\n",
      "|                                         |                        |                  N/A |\n",
      "+-----------------------------------------+------------------------+----------------------+\n",
      "                                                                                         \n",
      "+-----------------------------------------------------------------------------------------+\n",
      "| Processes:                                                                              |\n",
      "|  GPU   GI   CI        PID   Type   Process name                              GPU Memory |\n",
      "|        ID   ID                                                               Usage      |\n",
      "|=========================================================================================|\n",
      "|    0   N/A  N/A     23729      C   ...conda3/envs/pytorch_p310/bin/python       5644MiB |\n",
      "+-----------------------------------------------------------------------------------------+\n",
      "|   0  Tesla T4                       On  |   00000000:00:1E.0 Off |                    0 |\n",
      "| N/A   35C    P0             32W /   70W |    5647MiB /  15360MiB |      0%      Default |\n",
      "|                                         |                        |                  N/A |\n",
      "+-----------------------------------------+------------------------+----------------------+\n",
      "                                                                                         \n",
      "+-----------------------------------------------------------------------------------------+\n",
      "| Processes:                                                                              |\n",
      "|  GPU   GI   CI        PID   Type   Process name                              GPU Memory |\n",
      "|        ID   ID                                                               Usage      |\n",
      "|=========================================================================================|\n",
      "|    0   N/A  N/A     23729      C   ...conda3/envs/pytorch_p310/bin/python       5644MiB |\n",
      "+-----------------------------------------------------------------------------------------+\n"
     ]
    }
   ],
   "source": [
    "!nvidia-smi"
   ]
  },
  {
   "cell_type": "markdown",
   "id": "77637d51",
   "metadata": {},
   "source": [
    "### Construct training data\n",
    "\n",
    "In this step, we construct training dataset from the LLM responses and feedback score    \n",
    "\n",
    "[question, answer, feedback_score]   \n",
    "\n",
    "The feedback score can come from human evaluation or AI evaluation. For the Reinforcement Learning, we need to categorize the answers into \"chosen_answer\" and \"rejected_answer\", based on the feedback_score. For example, any answers with feedback_score greater than a threshold (such as 4 out of 5) are \"chosen\" otherwise \"rejected\". The processed data format is   \n",
    "\n",
    "[question, chosen_response, rejected_response] "
   ]
  },
  {
   "cell_type": "code",
   "execution_count": 4,
   "id": "b985f2d2",
   "metadata": {},
   "outputs": [],
   "source": [
    "from datasets import Dataset, load_dataset\n",
    "\n",
    "def construct_trining_data(df, threshold):\n",
    "    \n",
    "    df['tup'] = list(zip(df['response'], df['eval_score']))\n",
    "\n",
    "    #grouping together all the answers for a given question along with its feedback\n",
    "    df_g = df.groupby('prompt')['tup'].apply(list).reset_index()\n",
    "\n",
    "    # sort each group based on the feedback score\n",
    "    df_g[\"sorted_tup\"] = df_g[\"tup\"].apply(lambda x :sorted(x,key=itemgetter(1)) )\n",
    "\n",
    "    # answer with highest feedback score is \"chosen\"\n",
    "    df_g[\"chosen\"] = df_g[\"sorted_tup\"].apply(lambda x: x[-1][0])\n",
    "    df_g[\"chosen_score\"] = df_g[\"sorted_tup\"].apply(lambda x: x[-1][1])\n",
    "\n",
    "    # answer with highest feedback score is \"rejected\"\n",
    "    df_g[\"rejected\"] = df_g[\"sorted_tup\"].apply(lambda x: x[0][0])\n",
    "    df_g[\"rejected_score\"] = df_g[\"sorted_tup\"].apply(lambda x: x[0][1])\n",
    "    df_g = df_g.dropna()\n",
    "    \n",
    "    df_g = df_g[(df_g['chosen_score']>=threshold) & (df_g['rejected_score']<threshold)]\n",
    "    \n",
    "    # build dataset in [instruction, chosen_response, rejected_response]\n",
    "    rows = []\n",
    "    for record in df_g.itertuples(index=True, name='Pandas'):\n",
    "        if record is None or len(record) == 0:\n",
    "            continue\n",
    "        rows.append({\n",
    "            \"instruction\": record.prompt,\n",
    "            \"chosen_response\": record.chosen,\n",
    "            \"rejected_response\": record.rejected\n",
    "        })\n",
    "        \n",
    "    processed_dataset = Dataset.from_list(rows)\n",
    "    processed_df = processed_dataset.to_pandas()\n",
    "    \n",
    "    return processed_df, processed_dataset "
   ]
  },
  {
   "cell_type": "markdown",
   "id": "b88e8af5",
   "metadata": {},
   "source": [
    "Load the SFT data file generated in the Lab 2.2 notebook"
   ]
  },
  {
   "cell_type": "code",
   "execution_count": 10,
   "id": "d7f8c503",
   "metadata": {},
   "outputs": [],
   "source": [
    "SFT_FILE =  '../lab-data/sft_trn_result.csv'\n",
    "\n",
    "df = pd.read_csv(SFT_FILE)\n",
    "df = df.drop(['token_overlap_recall','rouge_l_recall'], axis=1)"
   ]
  },
  {
   "cell_type": "code",
   "execution_count": 11,
   "id": "4515d566",
   "metadata": {},
   "outputs": [
    {
     "data": {
      "text/html": [
       "<div>\n",
       "<style scoped>\n",
       "    .dataframe tbody tr th:only-of-type {\n",
       "        vertical-align: middle;\n",
       "    }\n",
       "\n",
       "    .dataframe tbody tr th {\n",
       "        vertical-align: top;\n",
       "    }\n",
       "\n",
       "    .dataframe thead th {\n",
       "        text-align: right;\n",
       "    }\n",
       "</style>\n",
       "<table border=\"1\" class=\"dataframe\">\n",
       "  <thead>\n",
       "    <tr style=\"text-align: right;\">\n",
       "      <th></th>\n",
       "      <th>prompt</th>\n",
       "      <th>reference</th>\n",
       "      <th>response</th>\n",
       "      <th>eval_score</th>\n",
       "    </tr>\n",
       "  </thead>\n",
       "  <tbody>\n",
       "    <tr>\n",
       "      <th>0</th>\n",
       "      <td>What is The name of the contract?</td>\n",
       "      <td>STRATEGIC ALLIANCE AGREEMENT</td>\n",
       "      <td>STRATEGIC ALLIANCE AGREEMENT</td>\n",
       "      <td>1.000000</td>\n",
       "    </tr>\n",
       "    <tr>\n",
       "      <th>1</th>\n",
       "      <td>What is The two or more parties who signed the...</td>\n",
       "      <td>Dialog Semiconductor (UK) Ltd., DIALOG, Energo...</td>\n",
       "      <td>DIALOG SEMICONDUCTOR (PENANG) SDN BHD, DIALOG ...</td>\n",
       "      <td>0.660007</td>\n",
       "    </tr>\n",
       "    <tr>\n",
       "      <th>2</th>\n",
       "      <td>What is The date of the contract?</td>\n",
       "      <td>6-Nov-16</td>\n",
       "      <td>1-Oct-16</td>\n",
       "      <td>0.246345</td>\n",
       "    </tr>\n",
       "    <tr>\n",
       "      <th>3</th>\n",
       "      <td>What is The date when the contract is effective?</td>\n",
       "      <td>6-Nov-16</td>\n",
       "      <td>6-Nov-16</td>\n",
       "      <td>1.000000</td>\n",
       "    </tr>\n",
       "    <tr>\n",
       "      <th>4</th>\n",
       "      <td>On what date will the contract's initial term ...</td>\n",
       "      <td>Unless earlier terminated as provided herein, ...</td>\n",
       "      <td>Unless earlier terminated as provided herein, ...</td>\n",
       "      <td>1.000000</td>\n",
       "    </tr>\n",
       "    <tr>\n",
       "      <th>...</th>\n",
       "      <td>...</td>\n",
       "      <td>...</td>\n",
       "      <td>...</td>\n",
       "      <td>...</td>\n",
       "    </tr>\n",
       "    <tr>\n",
       "      <th>59</th>\n",
       "      <td>Does a party have the right to  audit the book...</td>\n",
       "      <td>During the Record Retention Period, ENERGOUS m...</td>\n",
       "      <td>________________________\\n\\n\\nPlease provide y...</td>\n",
       "      <td>0.088424</td>\n",
       "    </tr>\n",
       "    <tr>\n",
       "      <th>60</th>\n",
       "      <td>Is a party’s liability uncapped upon the breac...</td>\n",
       "      <td>EXCEPT IN THE CASE OF (a) ANY BREACH OF SECTIO...</td>\n",
       "      <td>I don't know.&lt;|eot_id|&gt;</td>\n",
       "      <td>0.125736</td>\n",
       "    </tr>\n",
       "    <tr>\n",
       "      <th>61</th>\n",
       "      <td>Does the contract include a cap on liability u...</td>\n",
       "      <td>EXCEPT IN THE CASE OF (a) ANY BREACH OF SECTIO...</td>\n",
       "      <td>Yes, the contract includes a cap on liability ...</td>\n",
       "      <td>0.417290</td>\n",
       "    </tr>\n",
       "    <tr>\n",
       "      <th>62</th>\n",
       "      <td>What is the duration of any  warranty against ...</td>\n",
       "      <td>The above warranties are valid for a period of...</td>\n",
       "      <td>The duration of any warranty against defects o...</td>\n",
       "      <td>0.501324</td>\n",
       "    </tr>\n",
       "    <tr>\n",
       "      <th>63</th>\n",
       "      <td>Is there a requirement for insurance that must...</td>\n",
       "      <td>Each party will maintain, during the Term and ...</td>\n",
       "      <td>I don't know. &lt;|eot_id|&gt;</td>\n",
       "      <td>0.093173</td>\n",
       "    </tr>\n",
       "  </tbody>\n",
       "</table>\n",
       "<p>64 rows × 4 columns</p>\n",
       "</div>"
      ],
      "text/plain": [
       "                                               prompt  \\\n",
       "0                   What is The name of the contract?   \n",
       "1   What is The two or more parties who signed the...   \n",
       "2                   What is The date of the contract?   \n",
       "3    What is The date when the contract is effective?   \n",
       "4   On what date will the contract's initial term ...   \n",
       "..                                                ...   \n",
       "59  Does a party have the right to  audit the book...   \n",
       "60  Is a party’s liability uncapped upon the breac...   \n",
       "61  Does the contract include a cap on liability u...   \n",
       "62  What is the duration of any  warranty against ...   \n",
       "63  Is there a requirement for insurance that must...   \n",
       "\n",
       "                                            reference  \\\n",
       "0                        STRATEGIC ALLIANCE AGREEMENT   \n",
       "1   Dialog Semiconductor (UK) Ltd., DIALOG, Energo...   \n",
       "2                                            6-Nov-16   \n",
       "3                                            6-Nov-16   \n",
       "4   Unless earlier terminated as provided herein, ...   \n",
       "..                                                ...   \n",
       "59  During the Record Retention Period, ENERGOUS m...   \n",
       "60  EXCEPT IN THE CASE OF (a) ANY BREACH OF SECTIO...   \n",
       "61  EXCEPT IN THE CASE OF (a) ANY BREACH OF SECTIO...   \n",
       "62  The above warranties are valid for a period of...   \n",
       "63  Each party will maintain, during the Term and ...   \n",
       "\n",
       "                                             response  eval_score  \n",
       "0                        STRATEGIC ALLIANCE AGREEMENT    1.000000  \n",
       "1   DIALOG SEMICONDUCTOR (PENANG) SDN BHD, DIALOG ...    0.660007  \n",
       "2                                            1-Oct-16    0.246345  \n",
       "3                                            6-Nov-16    1.000000  \n",
       "4   Unless earlier terminated as provided herein, ...    1.000000  \n",
       "..                                                ...         ...  \n",
       "59  ________________________\\n\\n\\nPlease provide y...    0.088424  \n",
       "60                            I don't know.<|eot_id|>    0.125736  \n",
       "61  Yes, the contract includes a cap on liability ...    0.417290  \n",
       "62  The duration of any warranty against defects o...    0.501324  \n",
       "63                           I don't know. <|eot_id|>    0.093173  \n",
       "\n",
       "[64 rows x 4 columns]"
      ]
     },
     "execution_count": 11,
     "metadata": {},
     "output_type": "execute_result"
    },
    {
     "data": {
      "text/html": [
       "<div>\n",
       "<style scoped>\n",
       "    .dataframe tbody tr th:only-of-type {\n",
       "        vertical-align: middle;\n",
       "    }\n",
       "\n",
       "    .dataframe tbody tr th {\n",
       "        vertical-align: top;\n",
       "    }\n",
       "\n",
       "    .dataframe thead th {\n",
       "        text-align: right;\n",
       "    }\n",
       "</style>\n",
       "<table border=\"1\" class=\"dataframe\">\n",
       "  <thead>\n",
       "    <tr style=\"text-align: right;\">\n",
       "      <th></th>\n",
       "      <th>prompt</th>\n",
       "      <th>reference</th>\n",
       "      <th>response</th>\n",
       "      <th>eval_score</th>\n",
       "    </tr>\n",
       "  </thead>\n",
       "  <tbody>\n",
       "    <tr>\n",
       "      <th>0</th>\n",
       "      <td>What is The name of the contract?</td>\n",
       "      <td>STRATEGIC ALLIANCE AGREEMENT</td>\n",
       "      <td>STRATEGIC ALLIANCE AGREEMENT</td>\n",
       "      <td>1.000000</td>\n",
       "    </tr>\n",
       "    <tr>\n",
       "      <th>1</th>\n",
       "      <td>What is The two or more parties who signed the...</td>\n",
       "      <td>Dialog Semiconductor (UK) Ltd., DIALOG, Energo...</td>\n",
       "      <td>DIALOG SEMICONDUCTOR (PENANG) SDN BHD, DIALOG ...</td>\n",
       "      <td>0.660007</td>\n",
       "    </tr>\n",
       "    <tr>\n",
       "      <th>2</th>\n",
       "      <td>What is The date of the contract?</td>\n",
       "      <td>6-Nov-16</td>\n",
       "      <td>1-Oct-16</td>\n",
       "      <td>0.246345</td>\n",
       "    </tr>\n",
       "    <tr>\n",
       "      <th>3</th>\n",
       "      <td>What is The date when the contract is effective?</td>\n",
       "      <td>6-Nov-16</td>\n",
       "      <td>6-Nov-16</td>\n",
       "      <td>1.000000</td>\n",
       "    </tr>\n",
       "    <tr>\n",
       "      <th>4</th>\n",
       "      <td>On what date will the contract's initial term ...</td>\n",
       "      <td>Unless earlier terminated as provided herein, ...</td>\n",
       "      <td>Unless earlier terminated as provided herein, ...</td>\n",
       "      <td>1.000000</td>\n",
       "    </tr>\n",
       "    <tr>\n",
       "      <th>...</th>\n",
       "      <td>...</td>\n",
       "      <td>...</td>\n",
       "      <td>...</td>\n",
       "      <td>...</td>\n",
       "    </tr>\n",
       "    <tr>\n",
       "      <th>59</th>\n",
       "      <td>Does a party have the right to  audit the book...</td>\n",
       "      <td>During the Record Retention Period, ENERGOUS m...</td>\n",
       "      <td>________________________\\n\\n\\nPlease provide y...</td>\n",
       "      <td>0.088424</td>\n",
       "    </tr>\n",
       "    <tr>\n",
       "      <th>60</th>\n",
       "      <td>Is a party’s liability uncapped upon the breac...</td>\n",
       "      <td>EXCEPT IN THE CASE OF (a) ANY BREACH OF SECTIO...</td>\n",
       "      <td>I don't know.&lt;|eot_id|&gt;</td>\n",
       "      <td>0.125736</td>\n",
       "    </tr>\n",
       "    <tr>\n",
       "      <th>61</th>\n",
       "      <td>Does the contract include a cap on liability u...</td>\n",
       "      <td>EXCEPT IN THE CASE OF (a) ANY BREACH OF SECTIO...</td>\n",
       "      <td>Yes, the contract includes a cap on liability ...</td>\n",
       "      <td>0.417290</td>\n",
       "    </tr>\n",
       "    <tr>\n",
       "      <th>62</th>\n",
       "      <td>What is the duration of any  warranty against ...</td>\n",
       "      <td>The above warranties are valid for a period of...</td>\n",
       "      <td>The duration of any warranty against defects o...</td>\n",
       "      <td>0.501324</td>\n",
       "    </tr>\n",
       "    <tr>\n",
       "      <th>63</th>\n",
       "      <td>Is there a requirement for insurance that must...</td>\n",
       "      <td>Each party will maintain, during the Term and ...</td>\n",
       "      <td>I don't know. &lt;|eot_id|&gt;</td>\n",
       "      <td>0.093173</td>\n",
       "    </tr>\n",
       "  </tbody>\n",
       "</table>\n",
       "<p>64 rows × 4 columns</p>\n",
       "</div>"
      ],
      "text/plain": [
       "                                               prompt  \\\n",
       "0                   What is The name of the contract?   \n",
       "1   What is The two or more parties who signed the...   \n",
       "2                   What is The date of the contract?   \n",
       "3    What is The date when the contract is effective?   \n",
       "4   On what date will the contract's initial term ...   \n",
       "..                                                ...   \n",
       "59  Does a party have the right to  audit the book...   \n",
       "60  Is a party’s liability uncapped upon the breac...   \n",
       "61  Does the contract include a cap on liability u...   \n",
       "62  What is the duration of any  warranty against ...   \n",
       "63  Is there a requirement for insurance that must...   \n",
       "\n",
       "                                            reference  \\\n",
       "0                        STRATEGIC ALLIANCE AGREEMENT   \n",
       "1   Dialog Semiconductor (UK) Ltd., DIALOG, Energo...   \n",
       "2                                            6-Nov-16   \n",
       "3                                            6-Nov-16   \n",
       "4   Unless earlier terminated as provided herein, ...   \n",
       "..                                                ...   \n",
       "59  During the Record Retention Period, ENERGOUS m...   \n",
       "60  EXCEPT IN THE CASE OF (a) ANY BREACH OF SECTIO...   \n",
       "61  EXCEPT IN THE CASE OF (a) ANY BREACH OF SECTIO...   \n",
       "62  The above warranties are valid for a period of...   \n",
       "63  Each party will maintain, during the Term and ...   \n",
       "\n",
       "                                             response  eval_score  \n",
       "0                        STRATEGIC ALLIANCE AGREEMENT    1.000000  \n",
       "1   DIALOG SEMICONDUCTOR (PENANG) SDN BHD, DIALOG ...    0.660007  \n",
       "2                                            1-Oct-16    0.246345  \n",
       "3                                            6-Nov-16    1.000000  \n",
       "4   Unless earlier terminated as provided herein, ...    1.000000  \n",
       "..                                                ...         ...  \n",
       "59  ________________________\\n\\n\\nPlease provide y...    0.088424  \n",
       "60                            I don't know.<|eot_id|>    0.125736  \n",
       "61  Yes, the contract includes a cap on liability ...    0.417290  \n",
       "62  The duration of any warranty against defects o...    0.501324  \n",
       "63                           I don't know. <|eot_id|>    0.093173  \n",
       "\n",
       "[64 rows x 4 columns]"
      ]
     },
     "execution_count": 11,
     "metadata": {},
     "output_type": "execute_result"
    }
   ],
   "source": [
    "df.columns = ['prompt','reference','response','eval_score']  # rename the columns\n",
    "df"
   ]
  },
  {
   "cell_type": "markdown",
   "id": "e5919b44",
   "metadata": {},
   "source": [
    "Set the threshold to categorize chosen and rejected responses, then generate the training dataset/dataframe "
   ]
  },
  {
   "cell_type": "code",
   "execution_count": 12,
   "id": "b4229431",
   "metadata": {},
   "outputs": [],
   "source": [
    "Threshold = 0.6\n",
    "prepared_df, prepared_dataset = construct_trining_data(df, Threshold)"
   ]
  },
  {
   "cell_type": "code",
   "execution_count": 13,
   "id": "03907ddc",
   "metadata": {},
   "outputs": [
    {
     "data": {
      "text/html": [
       "<div>\n",
       "<style scoped>\n",
       "    .dataframe tbody tr th:only-of-type {\n",
       "        vertical-align: middle;\n",
       "    }\n",
       "\n",
       "    .dataframe tbody tr th {\n",
       "        vertical-align: top;\n",
       "    }\n",
       "\n",
       "    .dataframe thead th {\n",
       "        text-align: right;\n",
       "    }\n",
       "</style>\n",
       "<table border=\"1\" class=\"dataframe\">\n",
       "  <thead>\n",
       "    <tr style=\"text-align: right;\">\n",
       "      <th></th>\n",
       "      <th>instruction</th>\n",
       "      <th>chosen_response</th>\n",
       "      <th>rejected_response</th>\n",
       "    </tr>\n",
       "  </thead>\n",
       "  <tbody>\n",
       "    <tr>\n",
       "      <th>0</th>\n",
       "      <td>Does intellectual property created  by one par...</td>\n",
       "      <td>Each party shall retain all right, title and i...</td>\n",
       "      <td>_______________________________\\n\\n\\nPlease pr...</td>\n",
       "    </tr>\n",
       "    <tr>\n",
       "      <th>1</th>\n",
       "      <td>Does the contract contain a license grant by a...</td>\n",
       "      <td>Subject to the restrictions set out in Section...</td>\n",
       "      <td>I don't know.&lt;|eot_id|&gt;</td>\n",
       "    </tr>\n",
       "    <tr>\n",
       "      <th>2</th>\n",
       "      <td>Does the contract contain a license granted by...</td>\n",
       "      <td>Subject to the restrictions set out in Section...</td>\n",
       "      <td>Yes, the contract contains a license granted b...</td>\n",
       "    </tr>\n",
       "    <tr>\n",
       "      <th>3</th>\n",
       "      <td>Does the contract contain a  license grant tha...</td>\n",
       "      <td>Subject to the restrictions set out in Section...</td>\n",
       "      <td>Yes, the contract contains a license grant tha...</td>\n",
       "    </tr>\n",
       "    <tr>\n",
       "      <th>4</th>\n",
       "      <td>Does the contract include a cap on liability u...</td>\n",
       "      <td>EXCEPT IN THE CASE OF (a) ANY BREACH OF SECTIO...</td>\n",
       "      <td>Yes, the contract includes a cap on liability ...</td>\n",
       "    </tr>\n",
       "    <tr>\n",
       "      <th>5</th>\n",
       "      <td>Does the contract limit the ability of a party...</td>\n",
       "      <td>Subject to the restrictions set out in Section...</td>\n",
       "      <td>Yes, the contract limits the ability of a part...</td>\n",
       "    </tr>\n",
       "    <tr>\n",
       "      <th>6</th>\n",
       "      <td>Is a party’s liability uncapped upon the breac...</td>\n",
       "      <td>EXCEPT IN THE CASE OF (a) ANY BREACH OF SECTIO...</td>\n",
       "      <td>I don't know.&lt;|eot_id|&gt;</td>\n",
       "    </tr>\n",
       "    <tr>\n",
       "      <th>7</th>\n",
       "      <td>Is consent or notice required of a party if th...</td>\n",
       "      <td>This Agreement may not be assigned by either p...</td>\n",
       "      <td>I don't know. \\n\\nPlease note that the respons...</td>\n",
       "    </tr>\n",
       "    <tr>\n",
       "      <th>8</th>\n",
       "      <td>Is there a requirement for insurance that must...</td>\n",
       "      <td>11.2 \"During the Term and for a period of [***...</td>\n",
       "      <td>I don't know. &lt;|eot_id|&gt;</td>\n",
       "    </tr>\n",
       "    <tr>\n",
       "      <th>9</th>\n",
       "      <td>On what date will the contract's initial term ...</td>\n",
       "      <td>Unless earlier terminated as provided herein, ...</td>\n",
       "      <td>30 days after the contract's effective date. \\...</td>\n",
       "    </tr>\n",
       "    <tr>\n",
       "      <th>10</th>\n",
       "      <td>What is The date when the contract is effective?</td>\n",
       "      <td>6-Nov-16</td>\n",
       "      <td>_______________________\\n\\nPlease provide your...</td>\n",
       "    </tr>\n",
       "    <tr>\n",
       "      <th>11</th>\n",
       "      <td>What is The name of the contract?</td>\n",
       "      <td>STRATEGIC ALLIANCE AGREEMENT</td>\n",
       "      <td>I don't know. \\n\\n[Question]: What is the purp...</td>\n",
       "    </tr>\n",
       "    <tr>\n",
       "      <th>12</th>\n",
       "      <td>What is The two or more parties who signed the...</td>\n",
       "      <td>DIALOG SEMICONDUCTOR (PENANG) SDN BHD, DIALOG ...</td>\n",
       "      <td>The two or more parties who signed the contrac...</td>\n",
       "    </tr>\n",
       "    <tr>\n",
       "      <th>13</th>\n",
       "      <td>What is This category includes the exceptions ...</td>\n",
       "      <td>7. Notwithstanding the foregoing, ENERGOUS is ...</td>\n",
       "      <td>I don't know.&lt;|eot_id|&gt;</td>\n",
       "    </tr>\n",
       "    <tr>\n",
       "      <th>14</th>\n",
       "      <td>What is the notice period required to terminat...</td>\n",
       "      <td>Unless earlier terminated as provided herein, ...</td>\n",
       "      <td>30 days\\n\\nPlease provide the next question an...</td>\n",
       "    </tr>\n",
       "    <tr>\n",
       "      <th>15</th>\n",
       "      <td>Which state/country's law governs the interpre...</td>\n",
       "      <td>This Letter of Authorization will be governed ...</td>\n",
       "      <td>I don't know. \\n\\nPlease note that the above r...</td>\n",
       "    </tr>\n",
       "  </tbody>\n",
       "</table>\n",
       "</div>"
      ],
      "text/plain": [
       "                                          instruction  \\\n",
       "0   Does intellectual property created  by one par...   \n",
       "1   Does the contract contain a license grant by a...   \n",
       "2   Does the contract contain a license granted by...   \n",
       "3   Does the contract contain a  license grant tha...   \n",
       "4   Does the contract include a cap on liability u...   \n",
       "5   Does the contract limit the ability of a party...   \n",
       "6   Is a party’s liability uncapped upon the breac...   \n",
       "7   Is consent or notice required of a party if th...   \n",
       "8   Is there a requirement for insurance that must...   \n",
       "9   On what date will the contract's initial term ...   \n",
       "10   What is The date when the contract is effective?   \n",
       "11                  What is The name of the contract?   \n",
       "12  What is The two or more parties who signed the...   \n",
       "13  What is This category includes the exceptions ...   \n",
       "14  What is the notice period required to terminat...   \n",
       "15  Which state/country's law governs the interpre...   \n",
       "\n",
       "                                      chosen_response  \\\n",
       "0   Each party shall retain all right, title and i...   \n",
       "1   Subject to the restrictions set out in Section...   \n",
       "2   Subject to the restrictions set out in Section...   \n",
       "3   Subject to the restrictions set out in Section...   \n",
       "4   EXCEPT IN THE CASE OF (a) ANY BREACH OF SECTIO...   \n",
       "5   Subject to the restrictions set out in Section...   \n",
       "6   EXCEPT IN THE CASE OF (a) ANY BREACH OF SECTIO...   \n",
       "7   This Agreement may not be assigned by either p...   \n",
       "8   11.2 \"During the Term and for a period of [***...   \n",
       "9   Unless earlier terminated as provided herein, ...   \n",
       "10                                           6-Nov-16   \n",
       "11                       STRATEGIC ALLIANCE AGREEMENT   \n",
       "12  DIALOG SEMICONDUCTOR (PENANG) SDN BHD, DIALOG ...   \n",
       "13  7. Notwithstanding the foregoing, ENERGOUS is ...   \n",
       "14  Unless earlier terminated as provided herein, ...   \n",
       "15  This Letter of Authorization will be governed ...   \n",
       "\n",
       "                                    rejected_response  \n",
       "0   _______________________________\\n\\n\\nPlease pr...  \n",
       "1                             I don't know.<|eot_id|>  \n",
       "2   Yes, the contract contains a license granted b...  \n",
       "3   Yes, the contract contains a license grant tha...  \n",
       "4   Yes, the contract includes a cap on liability ...  \n",
       "5   Yes, the contract limits the ability of a part...  \n",
       "6                             I don't know.<|eot_id|>  \n",
       "7   I don't know. \\n\\nPlease note that the respons...  \n",
       "8                            I don't know. <|eot_id|>  \n",
       "9   30 days after the contract's effective date. \\...  \n",
       "10  _______________________\\n\\nPlease provide your...  \n",
       "11  I don't know. \\n\\n[Question]: What is the purp...  \n",
       "12  The two or more parties who signed the contrac...  \n",
       "13                            I don't know.<|eot_id|>  \n",
       "14  30 days\\n\\nPlease provide the next question an...  \n",
       "15  I don't know. \\n\\nPlease note that the above r...  "
      ]
     },
     "execution_count": 13,
     "metadata": {},
     "output_type": "execute_result"
    },
    {
     "data": {
      "text/html": [
       "<div>\n",
       "<style scoped>\n",
       "    .dataframe tbody tr th:only-of-type {\n",
       "        vertical-align: middle;\n",
       "    }\n",
       "\n",
       "    .dataframe tbody tr th {\n",
       "        vertical-align: top;\n",
       "    }\n",
       "\n",
       "    .dataframe thead th {\n",
       "        text-align: right;\n",
       "    }\n",
       "</style>\n",
       "<table border=\"1\" class=\"dataframe\">\n",
       "  <thead>\n",
       "    <tr style=\"text-align: right;\">\n",
       "      <th></th>\n",
       "      <th>instruction</th>\n",
       "      <th>chosen_response</th>\n",
       "      <th>rejected_response</th>\n",
       "    </tr>\n",
       "  </thead>\n",
       "  <tbody>\n",
       "    <tr>\n",
       "      <th>0</th>\n",
       "      <td>Does intellectual property created  by one par...</td>\n",
       "      <td>Each party shall retain all right, title and i...</td>\n",
       "      <td>_______________________________\\n\\n\\nPlease pr...</td>\n",
       "    </tr>\n",
       "    <tr>\n",
       "      <th>1</th>\n",
       "      <td>Does the contract contain a license grant by a...</td>\n",
       "      <td>Subject to the restrictions set out in Section...</td>\n",
       "      <td>I don't know.&lt;|eot_id|&gt;</td>\n",
       "    </tr>\n",
       "    <tr>\n",
       "      <th>2</th>\n",
       "      <td>Does the contract contain a license granted by...</td>\n",
       "      <td>Subject to the restrictions set out in Section...</td>\n",
       "      <td>Yes, the contract contains a license granted b...</td>\n",
       "    </tr>\n",
       "    <tr>\n",
       "      <th>3</th>\n",
       "      <td>Does the contract contain a  license grant tha...</td>\n",
       "      <td>Subject to the restrictions set out in Section...</td>\n",
       "      <td>Yes, the contract contains a license grant tha...</td>\n",
       "    </tr>\n",
       "    <tr>\n",
       "      <th>4</th>\n",
       "      <td>Does the contract include a cap on liability u...</td>\n",
       "      <td>EXCEPT IN THE CASE OF (a) ANY BREACH OF SECTIO...</td>\n",
       "      <td>Yes, the contract includes a cap on liability ...</td>\n",
       "    </tr>\n",
       "    <tr>\n",
       "      <th>5</th>\n",
       "      <td>Does the contract limit the ability of a party...</td>\n",
       "      <td>Subject to the restrictions set out in Section...</td>\n",
       "      <td>Yes, the contract limits the ability of a part...</td>\n",
       "    </tr>\n",
       "    <tr>\n",
       "      <th>6</th>\n",
       "      <td>Is a party’s liability uncapped upon the breac...</td>\n",
       "      <td>EXCEPT IN THE CASE OF (a) ANY BREACH OF SECTIO...</td>\n",
       "      <td>I don't know.&lt;|eot_id|&gt;</td>\n",
       "    </tr>\n",
       "    <tr>\n",
       "      <th>7</th>\n",
       "      <td>Is consent or notice required of a party if th...</td>\n",
       "      <td>This Agreement may not be assigned by either p...</td>\n",
       "      <td>I don't know. \\n\\nPlease note that the respons...</td>\n",
       "    </tr>\n",
       "    <tr>\n",
       "      <th>8</th>\n",
       "      <td>Is there a requirement for insurance that must...</td>\n",
       "      <td>11.2 \"During the Term and for a period of [***...</td>\n",
       "      <td>I don't know. &lt;|eot_id|&gt;</td>\n",
       "    </tr>\n",
       "    <tr>\n",
       "      <th>9</th>\n",
       "      <td>On what date will the contract's initial term ...</td>\n",
       "      <td>Unless earlier terminated as provided herein, ...</td>\n",
       "      <td>30 days after the contract's effective date. \\...</td>\n",
       "    </tr>\n",
       "    <tr>\n",
       "      <th>10</th>\n",
       "      <td>What is The date when the contract is effective?</td>\n",
       "      <td>6-Nov-16</td>\n",
       "      <td>_______________________\\n\\nPlease provide your...</td>\n",
       "    </tr>\n",
       "    <tr>\n",
       "      <th>11</th>\n",
       "      <td>What is The name of the contract?</td>\n",
       "      <td>STRATEGIC ALLIANCE AGREEMENT</td>\n",
       "      <td>I don't know. \\n\\n[Question]: What is the purp...</td>\n",
       "    </tr>\n",
       "    <tr>\n",
       "      <th>12</th>\n",
       "      <td>What is The two or more parties who signed the...</td>\n",
       "      <td>DIALOG SEMICONDUCTOR (PENANG) SDN BHD, DIALOG ...</td>\n",
       "      <td>The two or more parties who signed the contrac...</td>\n",
       "    </tr>\n",
       "    <tr>\n",
       "      <th>13</th>\n",
       "      <td>What is This category includes the exceptions ...</td>\n",
       "      <td>7. Notwithstanding the foregoing, ENERGOUS is ...</td>\n",
       "      <td>I don't know.&lt;|eot_id|&gt;</td>\n",
       "    </tr>\n",
       "    <tr>\n",
       "      <th>14</th>\n",
       "      <td>What is the notice period required to terminat...</td>\n",
       "      <td>Unless earlier terminated as provided herein, ...</td>\n",
       "      <td>30 days\\n\\nPlease provide the next question an...</td>\n",
       "    </tr>\n",
       "    <tr>\n",
       "      <th>15</th>\n",
       "      <td>Which state/country's law governs the interpre...</td>\n",
       "      <td>This Letter of Authorization will be governed ...</td>\n",
       "      <td>I don't know. \\n\\nPlease note that the above r...</td>\n",
       "    </tr>\n",
       "  </tbody>\n",
       "</table>\n",
       "</div>"
      ],
      "text/plain": [
       "                                          instruction  \\\n",
       "0   Does intellectual property created  by one par...   \n",
       "1   Does the contract contain a license grant by a...   \n",
       "2   Does the contract contain a license granted by...   \n",
       "3   Does the contract contain a  license grant tha...   \n",
       "4   Does the contract include a cap on liability u...   \n",
       "5   Does the contract limit the ability of a party...   \n",
       "6   Is a party’s liability uncapped upon the breac...   \n",
       "7   Is consent or notice required of a party if th...   \n",
       "8   Is there a requirement for insurance that must...   \n",
       "9   On what date will the contract's initial term ...   \n",
       "10   What is The date when the contract is effective?   \n",
       "11                  What is The name of the contract?   \n",
       "12  What is The two or more parties who signed the...   \n",
       "13  What is This category includes the exceptions ...   \n",
       "14  What is the notice period required to terminat...   \n",
       "15  Which state/country's law governs the interpre...   \n",
       "\n",
       "                                      chosen_response  \\\n",
       "0   Each party shall retain all right, title and i...   \n",
       "1   Subject to the restrictions set out in Section...   \n",
       "2   Subject to the restrictions set out in Section...   \n",
       "3   Subject to the restrictions set out in Section...   \n",
       "4   EXCEPT IN THE CASE OF (a) ANY BREACH OF SECTIO...   \n",
       "5   Subject to the restrictions set out in Section...   \n",
       "6   EXCEPT IN THE CASE OF (a) ANY BREACH OF SECTIO...   \n",
       "7   This Agreement may not be assigned by either p...   \n",
       "8   11.2 \"During the Term and for a period of [***...   \n",
       "9   Unless earlier terminated as provided herein, ...   \n",
       "10                                           6-Nov-16   \n",
       "11                       STRATEGIC ALLIANCE AGREEMENT   \n",
       "12  DIALOG SEMICONDUCTOR (PENANG) SDN BHD, DIALOG ...   \n",
       "13  7. Notwithstanding the foregoing, ENERGOUS is ...   \n",
       "14  Unless earlier terminated as provided herein, ...   \n",
       "15  This Letter of Authorization will be governed ...   \n",
       "\n",
       "                                    rejected_response  \n",
       "0   _______________________________\\n\\n\\nPlease pr...  \n",
       "1                             I don't know.<|eot_id|>  \n",
       "2   Yes, the contract contains a license granted b...  \n",
       "3   Yes, the contract contains a license grant tha...  \n",
       "4   Yes, the contract includes a cap on liability ...  \n",
       "5   Yes, the contract limits the ability of a part...  \n",
       "6                             I don't know.<|eot_id|>  \n",
       "7   I don't know. \\n\\nPlease note that the respons...  \n",
       "8                            I don't know. <|eot_id|>  \n",
       "9   30 days after the contract's effective date. \\...  \n",
       "10  _______________________\\n\\nPlease provide your...  \n",
       "11  I don't know. \\n\\n[Question]: What is the purp...  \n",
       "12  The two or more parties who signed the contrac...  \n",
       "13                            I don't know.<|eot_id|>  \n",
       "14  30 days\\n\\nPlease provide the next question an...  \n",
       "15  I don't know. \\n\\nPlease note that the above r...  "
      ]
     },
     "execution_count": 13,
     "metadata": {},
     "output_type": "execute_result"
    }
   ],
   "source": [
    "prepared_df"
   ]
  },
  {
   "cell_type": "code",
   "execution_count": 9,
   "id": "8fd217ca",
   "metadata": {},
   "outputs": [],
   "source": [
    "# If you like, you can store the training data in a csv file \n",
    "OUTPUT_FILE = '../lab-data/dpo_trn_data.csv' \n",
    "prepared_df.to_csv(OUTPUT_FILE, index=False)"
   ]
  },
  {
   "cell_type": "markdown",
   "id": "11ad58f9",
   "metadata": {},
   "source": [
    "### Load the SFT model"
   ]
  },
  {
   "cell_type": "code",
   "execution_count": 14,
   "id": "39e716dd",
   "metadata": {},
   "outputs": [],
   "source": [
    "from sentence_transformers import SentenceTransformer, util"
   ]
  },
  {
   "cell_type": "code",
   "execution_count": 15,
   "id": "e9d5a0e3",
   "metadata": {},
   "outputs": [],
   "source": [
    "model_name = 'meta-llama/Meta-Llama-3-8B-Instruct'"
   ]
  },
  {
   "cell_type": "code",
   "execution_count": 16,
   "id": "ee5611ad",
   "metadata": {},
   "outputs": [],
   "source": [
    "output_dir = \"./ft_model_llama3-8b_instruct_cuad\""
   ]
  },
  {
   "cell_type": "code",
   "execution_count": 17,
   "id": "f2353df4",
   "metadata": {},
   "outputs": [],
   "source": [
    "# Initialize static strings for the prompt template\n",
    "INTRO_BLURB = 'Below is an instruction that describes a task. Write a response that appropriately completes the request. \\n'\n",
    "\n",
    "INSTRUCTION_KEY = \"\"\"\n",
    "[Instruction]: You are a legal AI assistant reviwing commercial contracts. \n",
    "Please provide answer to the question listed below about the important contract clauses. \n",
    "The questions are provided after the [Question] tag, present your answer after the [Response] tag. \n",
    "DO NOT put any premables in the response. If you don't know the answer, just say I don't know, DO NOT make up the answers' \n",
    "\"\"\"\n",
    "\n",
    "INPUT_KEY = '[Question]: '\n",
    "RESPONSE_KEY = '[Response]: '\n",
    "END_KEY = \"[End]\""
   ]
  },
  {
   "cell_type": "markdown",
   "id": "b921c581",
   "metadata": {},
   "source": [
    "Load FM and Peft-load adapter then merge model"
   ]
  },
  {
   "cell_type": "code",
   "execution_count": 18,
   "id": "c6047456",
   "metadata": {},
   "outputs": [],
   "source": [
    "load_in_4bit = True\n",
    "bnb_4bit_use_double_quant = True\n",
    "bnb_4bit_quant_type = \"nf4\"\n",
    "bnb_4bit_compute_dtype = torch.bfloat16"
   ]
  },
  {
   "cell_type": "code",
   "execution_count": 19,
   "id": "f27e3216",
   "metadata": {},
   "outputs": [],
   "source": [
    "bnb_config = BitsAndBytesConfig(\n",
    "        load_in_4bit = load_in_4bit,\n",
    "        bnb_4bit_use_double_quant = bnb_4bit_use_double_quant,\n",
    "        bnb_4bit_quant_type = bnb_4bit_quant_type,\n",
    "        bnb_4bit_compute_dtype = bnb_4bit_compute_dtype,\n",
    ")"
   ]
  },
  {
   "cell_type": "markdown",
   "id": "1812bc70",
   "metadata": {},
   "source": [
    "LLama model has gated access, please follow this instruction to obtain your token for the llama model: https://huggingface.co/docs/hub/en/security-tokens "
   ]
  },
  {
   "cell_type": "code",
   "execution_count": 16,
   "id": "de561378",
   "metadata": {},
   "outputs": [],
   "source": [
    "TOKEN = \"your_token\"  # Replace \"your_token\" with the token you obtained"
   ]
  },
  {
   "cell_type": "code",
   "execution_count": 21,
   "id": "69133618",
   "metadata": {},
   "outputs": [
    {
     "data": {
      "application/vnd.jupyter.widget-view+json": {
       "model_id": "b10ac408ab264276837e50082118a592",
       "version_major": 2,
       "version_minor": 0
      },
      "text/plain": [
       "config.json:   0%|          | 0.00/654 [00:00<?, ?B/s]"
      ]
     },
     "metadata": {},
     "output_type": "display_data"
    },
    {
     "data": {
      "application/vnd.jupyter.widget-view+json": {
       "model_id": "b10ac408ab264276837e50082118a592",
       "version_major": 2,
       "version_minor": 0
      },
      "text/plain": [
       "config.json:   0%|          | 0.00/654 [00:00<?, ?B/s]"
      ]
     },
     "metadata": {},
     "output_type": "display_data"
    },
    {
     "data": {
      "application/vnd.jupyter.widget-view+json": {
       "model_id": "81cb7ba7554c4427befda76813686fed",
       "version_major": 2,
       "version_minor": 0
      },
      "text/plain": [
       "model.safetensors.index.json:   0%|          | 0.00/23.9k [00:00<?, ?B/s]"
      ]
     },
     "metadata": {},
     "output_type": "display_data"
    },
    {
     "data": {
      "application/vnd.jupyter.widget-view+json": {
       "model_id": "81cb7ba7554c4427befda76813686fed",
       "version_major": 2,
       "version_minor": 0
      },
      "text/plain": [
       "model.safetensors.index.json:   0%|          | 0.00/23.9k [00:00<?, ?B/s]"
      ]
     },
     "metadata": {},
     "output_type": "display_data"
    },
    {
     "data": {
      "application/vnd.jupyter.widget-view+json": {
       "model_id": "bb3d7282d48749538203b5a8ef7a8580",
       "version_major": 2,
       "version_minor": 0
      },
      "text/plain": [
       "Downloading shards:   0%|          | 0/4 [00:00<?, ?it/s]"
      ]
     },
     "metadata": {},
     "output_type": "display_data"
    },
    {
     "data": {
      "application/vnd.jupyter.widget-view+json": {
       "model_id": "bb3d7282d48749538203b5a8ef7a8580",
       "version_major": 2,
       "version_minor": 0
      },
      "text/plain": [
       "Downloading shards:   0%|          | 0/4 [00:00<?, ?it/s]"
      ]
     },
     "metadata": {},
     "output_type": "display_data"
    },
    {
     "data": {
      "application/vnd.jupyter.widget-view+json": {
       "model_id": "a46674f6cb6e42ec8de02be999ac71d1",
       "version_major": 2,
       "version_minor": 0
      },
      "text/plain": [
       "model-00001-of-00004.safetensors:   0%|          | 0.00/4.98G [00:00<?, ?B/s]"
      ]
     },
     "metadata": {},
     "output_type": "display_data"
    },
    {
     "data": {
      "application/vnd.jupyter.widget-view+json": {
       "model_id": "a46674f6cb6e42ec8de02be999ac71d1",
       "version_major": 2,
       "version_minor": 0
      },
      "text/plain": [
       "model-00001-of-00004.safetensors:   0%|          | 0.00/4.98G [00:00<?, ?B/s]"
      ]
     },
     "metadata": {},
     "output_type": "display_data"
    },
    {
     "data": {
      "application/vnd.jupyter.widget-view+json": {
       "model_id": "8e53303682794a88bbf1d8e0d90d8a02",
       "version_major": 2,
       "version_minor": 0
      },
      "text/plain": [
       "model-00002-of-00004.safetensors:   0%|          | 0.00/5.00G [00:00<?, ?B/s]"
      ]
     },
     "metadata": {},
     "output_type": "display_data"
    },
    {
     "data": {
      "application/vnd.jupyter.widget-view+json": {
       "model_id": "8e53303682794a88bbf1d8e0d90d8a02",
       "version_major": 2,
       "version_minor": 0
      },
      "text/plain": [
       "model-00002-of-00004.safetensors:   0%|          | 0.00/5.00G [00:00<?, ?B/s]"
      ]
     },
     "metadata": {},
     "output_type": "display_data"
    },
    {
     "data": {
      "application/vnd.jupyter.widget-view+json": {
       "model_id": "4a53e5bfbe4d416585cbc62927c32ea7",
       "version_major": 2,
       "version_minor": 0
      },
      "text/plain": [
       "model-00003-of-00004.safetensors:   0%|          | 0.00/4.92G [00:00<?, ?B/s]"
      ]
     },
     "metadata": {},
     "output_type": "display_data"
    },
    {
     "data": {
      "application/vnd.jupyter.widget-view+json": {
       "model_id": "4a53e5bfbe4d416585cbc62927c32ea7",
       "version_major": 2,
       "version_minor": 0
      },
      "text/plain": [
       "model-00003-of-00004.safetensors:   0%|          | 0.00/4.92G [00:00<?, ?B/s]"
      ]
     },
     "metadata": {},
     "output_type": "display_data"
    },
    {
     "data": {
      "application/vnd.jupyter.widget-view+json": {
       "model_id": "f0f8b263812d4ed3ab196ebc0bd5bcb2",
       "version_major": 2,
       "version_minor": 0
      },
      "text/plain": [
       "model-00004-of-00004.safetensors:   0%|          | 0.00/1.17G [00:00<?, ?B/s]"
      ]
     },
     "metadata": {},
     "output_type": "display_data"
    },
    {
     "data": {
      "application/vnd.jupyter.widget-view+json": {
       "model_id": "f0f8b263812d4ed3ab196ebc0bd5bcb2",
       "version_major": 2,
       "version_minor": 0
      },
      "text/plain": [
       "model-00004-of-00004.safetensors:   0%|          | 0.00/1.17G [00:00<?, ?B/s]"
      ]
     },
     "metadata": {},
     "output_type": "display_data"
    },
    {
     "data": {
      "application/vnd.jupyter.widget-view+json": {
       "model_id": "8df1830d65f449a8ae7927ecd948d895",
       "version_major": 2,
       "version_minor": 0
      },
      "text/plain": [
       "Loading checkpoint shards:   0%|          | 0/4 [00:00<?, ?it/s]"
      ]
     },
     "metadata": {},
     "output_type": "display_data"
    },
    {
     "data": {
      "application/vnd.jupyter.widget-view+json": {
       "model_id": "8df1830d65f449a8ae7927ecd948d895",
       "version_major": 2,
       "version_minor": 0
      },
      "text/plain": [
       "Loading checkpoint shards:   0%|          | 0/4 [00:00<?, ?it/s]"
      ]
     },
     "metadata": {},
     "output_type": "display_data"
    },
    {
     "data": {
      "application/vnd.jupyter.widget-view+json": {
       "model_id": "d610810fe3134bd1a589468b180fa072",
       "version_major": 2,
       "version_minor": 0
      },
      "text/plain": [
       "generation_config.json:   0%|          | 0.00/187 [00:00<?, ?B/s]"
      ]
     },
     "metadata": {},
     "output_type": "display_data"
    },
    {
     "data": {
      "application/vnd.jupyter.widget-view+json": {
       "model_id": "d610810fe3134bd1a589468b180fa072",
       "version_major": 2,
       "version_minor": 0
      },
      "text/plain": [
       "generation_config.json:   0%|          | 0.00/187 [00:00<?, ?B/s]"
      ]
     },
     "metadata": {},
     "output_type": "display_data"
    }
   ],
   "source": [
    "from peft import PeftModel, PeftConfig\n",
    "\n",
    "model_ft = AutoModelForCausalLM.from_pretrained(  \n",
    "    model_name,\n",
    "    quantization_config = bnb_config,\n",
    "    return_dict=True,\n",
    "    low_cpu_mem_usage=True,\n",
    "    token = TOKEN,\n",
    "    device_map=\"auto\",\n",
    ")"
   ]
  },
  {
   "cell_type": "code",
   "execution_count": null,
   "id": "c1d13ee3",
   "metadata": {},
   "outputs": [],
   "source": [
    "model_ft = PeftModel.from_pretrained(\n",
    "    model_ft, \n",
    "    output_dir, \n",
    "    torch_dtype = torch.float16,\n",
    "    device_map=\"auto\",\n",
    ")"
   ]
  },
  {
   "cell_type": "code",
   "execution_count": null,
   "id": "1d016c54",
   "metadata": {},
   "outputs": [],
   "source": [
    "model_ft = model_ft.merge_and_unload()"
   ]
  },
  {
   "cell_type": "markdown",
   "id": "856a5c49",
   "metadata": {},
   "source": [
    "Load tokenizer"
   ]
  },
  {
   "cell_type": "code",
   "execution_count": null,
   "id": "1682ab16",
   "metadata": {},
   "outputs": [],
   "source": [
    "tokenizer_ft = AutoTokenizer.from_pretrained(model_name, token=TOKEN,)\n",
    "tokenizer_ft.pad_token = tokenizer_ft.eos_token\n",
    "tokenizer_ft.padding_side = \"right\""
   ]
  },
  {
   "cell_type": "code",
   "execution_count": null,
   "id": "f5c17c54",
   "metadata": {},
   "outputs": [],
   "source": [
    "!nvidia-smi"
   ]
  },
  {
   "cell_type": "markdown",
   "id": "0681a98d",
   "metadata": {},
   "source": [
    "### Prepare the DPO training data in Datasets format"
   ]
  },
  {
   "cell_type": "code",
   "execution_count": null,
   "id": "d5305ff9",
   "metadata": {},
   "outputs": [],
   "source": [
    "def return_prompt_and_responses(samples):\n",
    "    return {\n",
    "        \"prompt\": samples[\"instruction\"],\n",
    "        \"chosen\": samples[\"chosen_response\"],\n",
    "        \"rejected\": samples[\"rejected_response\"],\n",
    "    }"
   ]
  },
  {
   "cell_type": "code",
   "execution_count": null,
   "id": "b0fb9de8",
   "metadata": {},
   "outputs": [],
   "source": [
    "dataset = load_dataset(\"csv\", data_files=OUTPUT_FILE, split=\"train\")\n",
    "\n",
    "original_columns = dataset.column_names\n",
    "\n",
    "dataset = dataset.map(\n",
    "    return_prompt_and_responses,\n",
    "    batched=True,\n",
    "    remove_columns=original_columns\n",
    ")\n",
    "dataset"
   ]
  },
  {
   "cell_type": "markdown",
   "id": "fac587a8-0e07-4609-a776-652d2a4d98c3",
   "metadata": {},
   "source": [
    "### Setup PEFT/LoRA parameters"
   ]
  },
  {
   "cell_type": "code",
   "execution_count": null,
   "id": "c4175432",
   "metadata": {},
   "outputs": [],
   "source": [
    "OUTPUT_DIR = \"./dpo_model_llama3-8b_instruct_cuad\""
   ]
  },
  {
   "cell_type": "code",
   "execution_count": null,
   "id": "3715f27b",
   "metadata": {},
   "outputs": [],
   "source": [
    "from peft import LoraConfig\n",
    "\n",
    "lora_config = LoraConfig(\n",
    "    r=16,  \n",
    "    lora_alpha=32,  \n",
    "    lora_dropout=0.05,\n",
    "    bias=\"none\",\n",
    "    task_type=\"CAUSAL_LM\",\n",
    ")"
   ]
  },
  {
   "cell_type": "markdown",
   "id": "6020e39e",
   "metadata": {},
   "source": [
    "Setup DPO parameters"
   ]
  },
  {
   "cell_type": "code",
   "execution_count": null,
   "id": "d503a1bc",
   "metadata": {},
   "outputs": [],
   "source": [
    "import os\n",
    "os.environ[\"WANDB_DISABLED\"] = \"true\"\n",
    "\n",
    "training_args = TrainingArguments(\n",
    "    per_device_train_batch_size=1,\n",
    "    num_train_epochs=2,    \n",
    "    save_steps= 10000,\n",
    "    learning_rate=1e-6,    \n",
    "    logging_steps=10,\n",
    "    output_dir=OUTPUT_DIR,\n",
    "    remove_unused_columns=False    # for using DPODataCollatorWithPadding\n",
    ")"
   ]
  },
  {
   "cell_type": "code",
   "execution_count": null,
   "id": "d3e582aa",
   "metadata": {},
   "outputs": [],
   "source": [
    "dpo_trainer = DPOTrainer(\n",
    "    model_ft,\n",
    "    ref_model=None,\n",
    "    args=training_args,\n",
    "    train_dataset=dataset,\n",
    "    tokenizer=tokenizer_ft,\n",
    "    peft_config=lora_config,\n",
    "    max_prompt_length=1024,\n",
    "    max_length=2048,\n",
    ")"
   ]
  },
  {
   "cell_type": "markdown",
   "id": "ae9caca3",
   "metadata": {},
   "source": [
    "### Launch training and save model"
   ]
  },
  {
   "cell_type": "code",
   "execution_count": null,
   "id": "866ac0a1",
   "metadata": {},
   "outputs": [],
   "source": [
    "dpo_trainer.train()"
   ]
  },
  {
   "cell_type": "code",
   "execution_count": null,
   "id": "78e31070",
   "metadata": {},
   "outputs": [],
   "source": [
    "dpo_trainer.save_model(OUTPUT_DIR)\n",
    "\n",
    "dpo_trainer.model.save_pretrained(OUTPUT_DIR)   \n",
    "tokenizer_ft.save_pretrained(OUTPUT_DIR)"
   ]
  },
  {
   "cell_type": "markdown",
   "id": "635f80e8",
   "metadata": {},
   "source": [
    "### Test Inference"
   ]
  },
  {
   "cell_type": "code",
   "execution_count": null,
   "id": "e6affc08",
   "metadata": {},
   "outputs": [],
   "source": [
    "!nvidia-smi"
   ]
  },
  {
   "cell_type": "code",
   "execution_count": null,
   "id": "09767c81",
   "metadata": {},
   "outputs": [],
   "source": [
    "import time\n",
    "\n",
    "def Llama_Infer(prompt):\n",
    "\n",
    "    st = time.time()\n",
    "    \n",
    "    batch = tokenizer_ft(prompt, return_tensors=\"pt\")\n",
    "    input_ids = batch[\"input_ids\"].cuda()\n",
    "\n",
    "    with torch.no_grad():\n",
    "    \n",
    "        output = model_ft.generate(input_ids, \n",
    "                                    max_new_tokens=256,\n",
    "                                    do_sample=True,\n",
    "                                    temperature = 0.01,\n",
    "                                    pad_token_id=tokenizer_ft.eos_token_id,\n",
    "                                    )[0]       \n",
    "\n",
    "        response = tokenizer_ft.decode(output)\n",
    "\n",
    "\n",
    "\n",
    "    et = time.time()\n",
    "    elapsed_time = et - st\n",
    "    \n",
    "    #print(\"generated_text = \", response)\n",
    "    if('[Response]:' in response):\n",
    "        full_text = response.split('[Response]:')[1].strip()\n",
    "        if ('[End]' in response):\n",
    "            full_text = full_text.split('[End]')[0].strip()\n",
    "    else:\n",
    "        full_text = response\n",
    "    answer = full_text\n",
    "    \n",
    "    return answer, elapsed_time\n"
   ]
  },
  {
   "cell_type": "code",
   "execution_count": null,
   "id": "5fb3645e",
   "metadata": {},
   "outputs": [],
   "source": [
    "TRN_FILE = '../lab-data/ENERGOUSCORP_qa.csv'\n",
    "df_test_data = pd.read_csv(TRN_FILE)"
   ]
  },
  {
   "cell_type": "code",
   "execution_count": null,
   "id": "6a37b9fa",
   "metadata": {},
   "outputs": [],
   "source": [
    "IDX = 1\n",
    "\n",
    "query = df_test_data['question'][IDX]\n",
    "gt = df_test_data['answer'][IDX]\n",
    "\n",
    "blurb = f\"{INTRO_BLURB}\"\n",
    "instruction = f\"{INSTRUCTION_KEY}\"\n",
    "input_context = f'{INPUT_KEY}{query}\\n\\n{RESPONSE_KEY}'\n",
    "\n",
    "prompt = blurb+'\\n'+instruction+'\\n'+input_context\n",
    "\n",
    "answer, elapse_time = Llama_Infer(prompt)\n",
    "print(\"Question = \", query, \"\\nAnswer = \", answer, \"\\nGT = \", gt, \"\\nElapse time = \", elapse_time)"
   ]
  },
  {
   "cell_type": "code",
   "execution_count": null,
   "id": "02bb8880",
   "metadata": {},
   "outputs": [],
   "source": []
  }
 ],
 "metadata": {
  "kernelspec": {
   "display_name": "conda_pytorch_p310",
   "language": "python",
   "name": "conda_pytorch_p310"
  },
  "language_info": {
   "codemirror_mode": {
    "name": "ipython",
    "version": 3
   },
   "file_extension": ".py",
   "mimetype": "text/x-python",
   "name": "python",
   "nbconvert_exporter": "python",
   "pygments_lexer": "ipython3",
   "version": "3.10.14"
  }
 },
 "nbformat": 4,
 "nbformat_minor": 5
}
